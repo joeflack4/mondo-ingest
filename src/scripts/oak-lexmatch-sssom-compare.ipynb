{
 "cells": [
  {
   "cell_type": "code",
   "execution_count": 1,
   "id": "4f664f9b",
   "metadata": {},
   "outputs": [],
   "source": [
    "%reset -f"
   ]
  },
  {
   "cell_type": "code",
   "execution_count": 2,
   "id": "6f492430",
   "metadata": {},
   "outputs": [],
   "source": [
    "import pandas as pd\n",
    "from sssom.parsers import parse_sssom_table\n",
    "from sssom import compare_dataframes\n",
    "from sssom.parsers import split_dataframe\n",
    "from sssom.util import MappingSetDataFrame\n",
    "from os.path import join\n",
    "from oaklib import OntologyResource\n",
    "from oaklib.implementations import SqlImplementation"
   ]
  },
  {
   "cell_type": "code",
   "execution_count": 3,
   "id": "3bf8cc30",
   "metadata": {},
   "outputs": [],
   "source": [
    "lexmatch_file = \"../mappings/mondo-sources-all-lexical.sssom.tsv\"\n",
    "mondo_sssom = \"../ontology/tmp/mondo.sssom.tsv\"\n",
    "dir_name = \"dataframes\""
   ]
  },
  {
   "cell_type": "code",
   "execution_count": null,
   "id": "4ba89f6e",
   "metadata": {},
   "outputs": [],
   "source": [
    "%%time\n",
    "msdf_lex = parse_sssom_table(lexmatch_file)\n",
    "msdf_mondo = parse_sssom_table(mondo_sssom)\n",
    "\n",
    "# Use OAK to get 'object_label'\n",
    "ontology_resource = OntologyResource(slug='../ontology/tmp/merged.db', local=True)\n",
    "oi = SqlImplementation(ontology_resource)"
   ]
  },
  {
   "cell_type": "code",
   "execution_count": null,
   "id": "a8ecff36",
   "metadata": {},
   "outputs": [],
   "source": [
    "# msdf_mondo.df[msdf_mondo.df['object_id'].str.contains('ICD')]\n",
    "\"ICD10CM\", \"MONDO\"\n",
    "condition_1 = msdf_mondo.df['object_id'].str.contains(\"ICD10CM\")\n",
    "condition_2 = msdf_mondo.df['subject_id'].str.contains(\"MONDO\")\n",
    "condition_3 = msdf_mondo.df['object_id'].str.contains(\"MONDO\")\n",
    "condition_4 = msdf_mondo.df['subject_id'].str.contains(\"ICD10CM\")\n",
    "msdf_mondo.df = msdf_mondo.df[(condition_1 & condition_2) | (condition_3 & condition_4)]\n",
    "msdf_mondo.df['object_label'] = msdf_mondo.df['object_id'].apply(lambda x: oi.label(x))\n",
    "msdf_mondo.df.head()"
   ]
  },
  {
   "cell_type": "code",
   "execution_count": null,
   "id": "57569335",
   "metadata": {},
   "outputs": [],
   "source": [
    "# msdf_lex.df[msdf_lex.df['object_id'].str.contains('ICD')]\n",
    "condition_1 = msdf_lex.df['object_id'].str.contains(\"ICD10CM\")\n",
    "condition_2 = msdf_lex.df['subject_id'].str.contains(\"MONDO\")\n",
    "condition_3 = msdf_lex.df['object_id'].str.contains(\"MONDO\")\n",
    "condition_4 = msdf_lex.df['subject_id'].str.contains(\"ICD10CM\")\n",
    "msdf_lex.df = msdf_lex.df[(condition_1 & condition_2) | (condition_3 & condition_4)]\n",
    "msdf_lex.df\n"
   ]
  },
  {
   "cell_type": "code",
   "execution_count": null,
   "id": "717fe86c",
   "metadata": {},
   "outputs": [],
   "source": [
    "comparison_ms_diff = compare_dataframes(msdf_mondo.df, msdf_lex.df)\n",
    "comparison_df = comparison_ms_diff.combined_dataframe\n",
    "comparison_df['comment'] = comparison_df['comment'].str.replace('UNIQUE_1', \"MONDO_MAPPINGS\")\n",
    "comparison_df['comment'] = comparison_df['comment'].str.replace('UNIQUE_2', \"LEXMATCH\")\n",
    "comparison_df.head()"
   ]
  },
  {
   "cell_type": "code",
   "execution_count": null,
   "id": "26a3a8e1",
   "metadata": {},
   "outputs": [],
   "source": [
    "mappings = [\"LEXMATCH\", \"MONDO_MAPPINGS\"]\n",
    "unmapped_df = comparison_df[\n",
    "    (comparison_df['comment'].str.contains(\"|\".join(mappings)))\n",
    "]\n",
    "\n",
    "unmapped_df.head()"
   ]
  },
  {
   "cell_type": "code",
   "execution_count": null,
   "id": "bf477e9c",
   "metadata": {},
   "outputs": [],
   "source": [
    "# Let reviewers check if this makes sense or no.\n",
    "unmapped_lex_exact = unmapped_df[(unmapped_df['comment'] == 'LEXMATCH') & (unmapped_df['predicate_id'] == 'skos:exactMatch')]\n",
    "unmapped_lex_exact.to_csv(join(dir_name, \"unmapped_lex_exact.tsv\"), sep='\\t', index = False)\n",
    "unmapped_lex_exact.head()"
   ]
  },
  {
   "cell_type": "code",
   "execution_count": null,
   "id": "04e38c7c",
   "metadata": {},
   "outputs": [],
   "source": [
    "# Inspect why these are missing from SSSOM mappings\n",
    "# unmapped_mondo_exact['object_label'] = unmapped_mondo_exact['object_id'].apply(lambda x: oi.label(x))\n",
    "unmapped_mondo_exact = unmapped_df[(unmapped_df['comment'] == 'MONDO_MAPPINGS')& (unmapped_df['predicate_id'] == 'skos:exactMatch')]\n",
    "unmapped_mondo_exact.to_csv(join(dir_name, \"unmapped_mondo_exact.tsv\"), sep='\\t', index = False)\n",
    "unmapped_mondo_exact.head()"
   ]
  },
  {
   "cell_type": "code",
   "execution_count": null,
   "id": "ade43a81",
   "metadata": {},
   "outputs": [],
   "source": [
    "combined_msdf = MappingSetDataFrame(df=comparison_df, prefix_map=msdf_lex.prefix_map, metadata=msdf_lex.metadata)\n",
    "combined_msdf.df.head()"
   ]
  },
  {
   "cell_type": "code",
   "execution_count": null,
   "id": "7a06bea1",
   "metadata": {
    "scrolled": true
   },
   "outputs": [],
   "source": [
    "%%time\n",
    "df_dict = split_dataframe(combined_msdf)"
   ]
  },
  {
   "cell_type": "code",
   "execution_count": null,
   "id": "bf7375bf",
   "metadata": {},
   "outputs": [],
   "source": [
    "mondo_icd_list = [x for x in list(df_dict.keys()) if 'mondo' in x and \"icd10\" in x]\n",
    "mondo_icd_list"
   ]
  },
  {
   "cell_type": "code",
   "execution_count": null,
   "id": "404028a2",
   "metadata": {},
   "outputs": [],
   "source": [
    "for match in mondo_icd_list:\n",
    "    fn = match + \".tsv\"\n",
    "    df_dict[match].df.to_csv(join(dir_name,fn), sep='\\t', index = False)"
   ]
  },
  {
   "cell_type": "code",
   "execution_count": null,
   "id": "32563bf4",
   "metadata": {},
   "outputs": [],
   "source": [
    "df_dict['mondo_exactmatch_icd10cm'].df"
   ]
  },
  {
   "cell_type": "code",
   "execution_count": null,
   "id": "5cb9fd5b",
   "metadata": {},
   "outputs": [],
   "source": []
  }
 ],
 "metadata": {
  "kernelspec": {
   "display_name": "Python 3 (ipykernel)",
   "language": "python",
   "name": "python3"
  },
  "language_info": {
   "codemirror_mode": {
    "name": "ipython",
    "version": 3
   },
   "file_extension": ".py",
   "mimetype": "text/x-python",
   "name": "python",
   "nbconvert_exporter": "python",
   "pygments_lexer": "ipython3",
   "version": "3.9.12"
  }
 },
 "nbformat": 4,
 "nbformat_minor": 5
}
