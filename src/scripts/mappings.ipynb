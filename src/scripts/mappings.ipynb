{
 "cells": [
  {
   "cell_type": "code",
   "execution_count": 1,
   "id": "2f4cc14f",
   "metadata": {},
   "outputs": [],
   "source": [
    "%reset -f"
   ]
  },
  {
   "cell_type": "code",
   "execution_count": 2,
   "id": "cce67937",
   "metadata": {},
   "outputs": [],
   "source": [
    "%reload_ext sql\n",
    "%sql sqlite:///../ontology/tmp/merged.db"
   ]
  },
  {
   "cell_type": "code",
   "execution_count": 3,
   "id": "6e441578",
   "metadata": {},
   "outputs": [
    {
     "name": "stdout",
     "output_type": "stream",
     "text": [
      " * sqlite:///../ontology/tmp/merged.db\n",
      "Done.\n"
     ]
    },
    {
     "data": {
      "text/html": [
       "<table>\n",
       "    <tr>\n",
       "        <th>name</th>\n",
       "    </tr>\n",
       "    <tr>\n",
       "        <td>term_association</td>\n",
       "    </tr>\n",
       "    <tr>\n",
       "        <td>has_oio_synonym_statement</td>\n",
       "    </tr>\n",
       "    <tr>\n",
       "        <td>anonymous_expression</td>\n",
       "    </tr>\n",
       "    <tr>\n",
       "        <td>anonymous_class_expression</td>\n",
       "    </tr>\n",
       "    <tr>\n",
       "        <td>anonymous_property_expression</td>\n",
       "    </tr>\n",
       "    <tr>\n",
       "        <td>anonymous_individual_expression</td>\n",
       "    </tr>\n",
       "    <tr>\n",
       "        <td>owl_restriction</td>\n",
       "    </tr>\n",
       "    <tr>\n",
       "        <td>owl_complex_axiom</td>\n",
       "    </tr>\n",
       "    <tr>\n",
       "        <td>prefix</td>\n",
       "    </tr>\n",
       "    <tr>\n",
       "        <td>statements</td>\n",
       "    </tr>\n",
       "    <tr>\n",
       "        <td>rdf_list_statement</td>\n",
       "    </tr>\n",
       "    <tr>\n",
       "        <td>rdf_level_summary_statistic</td>\n",
       "    </tr>\n",
       "    <tr>\n",
       "        <td>relation_graph_construct</td>\n",
       "    </tr>\n",
       "    <tr>\n",
       "        <td>subgraph_query</td>\n",
       "    </tr>\n",
       "    <tr>\n",
       "        <td>entailed_edge</td>\n",
       "    </tr>\n",
       "    <tr>\n",
       "        <td>repair_action</td>\n",
       "    </tr>\n",
       "    <tr>\n",
       "        <td>problem</td>\n",
       "    </tr>\n",
       "    <tr>\n",
       "        <td>lexical_problem</td>\n",
       "    </tr>\n",
       "</table>"
      ],
      "text/plain": [
       "[('term_association',),\n",
       " ('has_oio_synonym_statement',),\n",
       " ('anonymous_expression',),\n",
       " ('anonymous_class_expression',),\n",
       " ('anonymous_property_expression',),\n",
       " ('anonymous_individual_expression',),\n",
       " ('owl_restriction',),\n",
       " ('owl_complex_axiom',),\n",
       " ('prefix',),\n",
       " ('statements',),\n",
       " ('rdf_list_statement',),\n",
       " ('rdf_level_summary_statistic',),\n",
       " ('relation_graph_construct',),\n",
       " ('subgraph_query',),\n",
       " ('entailed_edge',),\n",
       " ('repair_action',),\n",
       " ('problem',),\n",
       " ('lexical_problem',)]"
      ]
     },
     "execution_count": 3,
     "metadata": {},
     "output_type": "execute_result"
    }
   ],
   "source": [
    "%sql SELECT name FROM sqlite_master WHERE type='table';"
   ]
  },
  {
   "cell_type": "code",
   "execution_count": 5,
   "id": "34d7041a",
   "metadata": {
    "scrolled": true
   },
   "outputs": [
    {
     "name": "stdout",
     "output_type": "stream",
     "text": [
      " * sqlite:///../ontology/tmp/merged.db\n",
      "Done.\n"
     ]
    },
    {
     "data": {
      "text/html": [
       "<div>\n",
       "<style scoped>\n",
       "    .dataframe tbody tr th:only-of-type {\n",
       "        vertical-align: middle;\n",
       "    }\n",
       "\n",
       "    .dataframe tbody tr th {\n",
       "        vertical-align: top;\n",
       "    }\n",
       "\n",
       "    .dataframe thead th {\n",
       "        text-align: right;\n",
       "    }\n",
       "</style>\n",
       "<table border=\"1\" class=\"dataframe\">\n",
       "  <thead>\n",
       "    <tr style=\"text-align: right;\">\n",
       "      <th></th>\n",
       "      <th>stanza</th>\n",
       "      <th>subject</th>\n",
       "      <th>predicate</th>\n",
       "      <th>object</th>\n",
       "      <th>value</th>\n",
       "      <th>datatype</th>\n",
       "      <th>language</th>\n",
       "    </tr>\n",
       "  </thead>\n",
       "  <tbody>\n",
       "    <tr>\n",
       "      <th>0</th>\n",
       "      <td>MONDO:0000087</td>\n",
       "      <td>MONDO:0000087</td>\n",
       "      <td>skos:narrowMatch</td>\n",
       "      <td>&lt;https://icd.codes/icd10cm/Q04.3&gt;</td>\n",
       "      <td>None</td>\n",
       "      <td>None</td>\n",
       "      <td>None</td>\n",
       "    </tr>\n",
       "    <tr>\n",
       "      <th>1</th>\n",
       "      <td>MONDO:0000088</td>\n",
       "      <td>MONDO:0000088</td>\n",
       "      <td>skos:exactMatch</td>\n",
       "      <td>&lt;https://icd.codes/icd10cm/E30.1&gt;</td>\n",
       "      <td>None</td>\n",
       "      <td>None</td>\n",
       "      <td>None</td>\n",
       "    </tr>\n",
       "    <tr>\n",
       "      <th>2</th>\n",
       "      <td>MONDO:0000088</td>\n",
       "      <td>MONDO:0000088</td>\n",
       "      <td>skos:exactMatch</td>\n",
       "      <td>&lt;http://purl.bioontology.org/ontology/ICD10CM/...</td>\n",
       "      <td>None</td>\n",
       "      <td>None</td>\n",
       "      <td>None</td>\n",
       "    </tr>\n",
       "    <tr>\n",
       "      <th>3</th>\n",
       "      <td>MONDO:0000107</td>\n",
       "      <td>MONDO:0000107</td>\n",
       "      <td>skos:narrowMatch</td>\n",
       "      <td>&lt;https://icd.codes/icd10cm/Q75.8&gt;</td>\n",
       "      <td>None</td>\n",
       "      <td>None</td>\n",
       "      <td>None</td>\n",
       "    </tr>\n",
       "    <tr>\n",
       "      <th>4</th>\n",
       "      <td>MONDO:0000110</td>\n",
       "      <td>MONDO:0000110</td>\n",
       "      <td>skos:narrowMatch</td>\n",
       "      <td>&lt;https://icd.codes/icd10cm/Q30.2&gt;</td>\n",
       "      <td>None</td>\n",
       "      <td>None</td>\n",
       "      <td>None</td>\n",
       "    </tr>\n",
       "  </tbody>\n",
       "</table>\n",
       "</div>"
      ],
      "text/plain": [
       "          stanza        subject         predicate  \\\n",
       "0  MONDO:0000087  MONDO:0000087  skos:narrowMatch   \n",
       "1  MONDO:0000088  MONDO:0000088   skos:exactMatch   \n",
       "2  MONDO:0000088  MONDO:0000088   skos:exactMatch   \n",
       "3  MONDO:0000107  MONDO:0000107  skos:narrowMatch   \n",
       "4  MONDO:0000110  MONDO:0000110  skos:narrowMatch   \n",
       "\n",
       "                                              object value datatype language  \n",
       "0                  <https://icd.codes/icd10cm/Q04.3>  None     None     None  \n",
       "1                  <https://icd.codes/icd10cm/E30.1>  None     None     None  \n",
       "2  <http://purl.bioontology.org/ontology/ICD10CM/...  None     None     None  \n",
       "3                  <https://icd.codes/icd10cm/Q75.8>  None     None     None  \n",
       "4                  <https://icd.codes/icd10cm/Q30.2>  None     None     None  "
      ]
     },
     "execution_count": 5,
     "metadata": {},
     "output_type": "execute_result"
    }
   ],
   "source": [
    "import pandas as pd\n",
    "result = %sql SELECT * FROM statements WHERE subject LIKE \"%MONDO:%\" AND object LIKE \"%ICD10%\"\n",
    "df = pd.DataFrame(result)\n",
    "df.to_csv(\"mondo_icd.tsv\", sep='\\t', index = False)\n",
    "df.head()"
   ]
  },
  {
   "cell_type": "code",
   "execution_count": 6,
   "id": "388b290c",
   "metadata": {},
   "outputs": [
    {
     "name": "stdout",
     "output_type": "stream",
     "text": [
      " * sqlite:///../ontology/tmp/merged.db\n",
      "Done.\n"
     ]
    },
    {
     "data": {
      "text/html": [
       "<div>\n",
       "<style scoped>\n",
       "    .dataframe tbody tr th:only-of-type {\n",
       "        vertical-align: middle;\n",
       "    }\n",
       "\n",
       "    .dataframe tbody tr th {\n",
       "        vertical-align: top;\n",
       "    }\n",
       "\n",
       "    .dataframe thead th {\n",
       "        text-align: right;\n",
       "    }\n",
       "</style>\n",
       "<table border=\"1\" class=\"dataframe\">\n",
       "  <thead>\n",
       "    <tr style=\"text-align: right;\">\n",
       "      <th></th>\n",
       "      <th>stanza</th>\n",
       "      <th>subject</th>\n",
       "      <th>predicate</th>\n",
       "      <th>object</th>\n",
       "      <th>value</th>\n",
       "      <th>datatype</th>\n",
       "      <th>language</th>\n",
       "    </tr>\n",
       "  </thead>\n",
       "  <tbody>\n",
       "    <tr>\n",
       "      <th>0</th>\n",
       "      <td>MONDO:0000001</td>\n",
       "      <td>MONDO:0000001</td>\n",
       "      <td>oio:hasExactSynonym</td>\n",
       "      <td>None</td>\n",
       "      <td>other disease</td>\n",
       "      <td>xsd:string</td>\n",
       "      <td>None</td>\n",
       "    </tr>\n",
       "    <tr>\n",
       "      <th>1</th>\n",
       "      <td>MONDO:0000001</td>\n",
       "      <td>MONDO:0000001</td>\n",
       "      <td>oio:hasExactSynonym</td>\n",
       "      <td>None</td>\n",
       "      <td>medical condition</td>\n",
       "      <td>xsd:string</td>\n",
       "      <td>None</td>\n",
       "    </tr>\n",
       "    <tr>\n",
       "      <th>2</th>\n",
       "      <td>MONDO:0000001</td>\n",
       "      <td>MONDO:0000001</td>\n",
       "      <td>oio:hasExactSynonym</td>\n",
       "      <td>None</td>\n",
       "      <td>disorders</td>\n",
       "      <td>xsd:string</td>\n",
       "      <td>None</td>\n",
       "    </tr>\n",
       "    <tr>\n",
       "      <th>3</th>\n",
       "      <td>MONDO:0000001</td>\n",
       "      <td>MONDO:0000001</td>\n",
       "      <td>oio:hasExactSynonym</td>\n",
       "      <td>None</td>\n",
       "      <td>disorder</td>\n",
       "      <td>xsd:string</td>\n",
       "      <td>None</td>\n",
       "    </tr>\n",
       "    <tr>\n",
       "      <th>4</th>\n",
       "      <td>MONDO:0000001</td>\n",
       "      <td>MONDO:0000001</td>\n",
       "      <td>oio:hasExactSynonym</td>\n",
       "      <td>None</td>\n",
       "      <td>diseases and disorders</td>\n",
       "      <td>xsd:string</td>\n",
       "      <td>None</td>\n",
       "    </tr>\n",
       "  </tbody>\n",
       "</table>\n",
       "</div>"
      ],
      "text/plain": [
       "          stanza        subject            predicate object  \\\n",
       "0  MONDO:0000001  MONDO:0000001  oio:hasExactSynonym   None   \n",
       "1  MONDO:0000001  MONDO:0000001  oio:hasExactSynonym   None   \n",
       "2  MONDO:0000001  MONDO:0000001  oio:hasExactSynonym   None   \n",
       "3  MONDO:0000001  MONDO:0000001  oio:hasExactSynonym   None   \n",
       "4  MONDO:0000001  MONDO:0000001  oio:hasExactSynonym   None   \n",
       "\n",
       "                    value    datatype language  \n",
       "0           other disease  xsd:string     None  \n",
       "1       medical condition  xsd:string     None  \n",
       "2               disorders  xsd:string     None  \n",
       "3                disorder  xsd:string     None  \n",
       "4  diseases and disorders  xsd:string     None  "
      ]
     },
     "execution_count": 6,
     "metadata": {},
     "output_type": "execute_result"
    }
   ],
   "source": [
    "result = %sql SELECT * FROM statements WHERE (subject LIKE \"%MONDO:%\" OR subject LIKE \"%icd10cm%\") AND predicate IN (\"rdfs:label\", \"oio:hasExactSynonym\")\n",
    "df = pd.DataFrame(result)\n",
    "df.to_csv(\"mondo_icd_2.tsv\", sep='\\t', index = False)\n",
    "df.head()"
   ]
  },
  {
   "cell_type": "code",
   "execution_count": 10,
   "id": "a42b5df2",
   "metadata": {},
   "outputs": [
    {
     "name": "stdout",
     "output_type": "stream",
     "text": [
      " * sqlite:///../ontology/tmp/merged.db\n",
      "Done.\n"
     ]
    },
    {
     "data": {
      "text/html": [
       "<table>\n",
       "    <tr>\n",
       "        <th>stanza</th>\n",
       "        <th>subject</th>\n",
       "        <th>predicate</th>\n",
       "        <th>object</th>\n",
       "        <th>value</th>\n",
       "        <th>datatype</th>\n",
       "        <th>language</th>\n",
       "    </tr>\n",
       "</table>"
      ],
      "text/plain": [
       "[]"
      ]
     },
     "execution_count": 10,
     "metadata": {},
     "output_type": "execute_result"
    }
   ],
   "source": [
    "%sql SELECT * FROM statements WHERE (subject LIKE \"%icd10cm%\") AND predicate IN (\"rdfs:label\", \"oio:hasExactSynonym\")\n"
   ]
  },
  {
   "cell_type": "code",
   "execution_count": null,
   "id": "483ca88a",
   "metadata": {},
   "outputs": [],
   "source": [
    "%sql SELECT * FROM entailed_edge WHERE object LIKE \"%ICD10%\" LIMIT 100"
   ]
  },
  {
   "cell_type": "code",
   "execution_count": null,
   "id": "05d48010",
   "metadata": {},
   "outputs": [],
   "source": [
    "%sql SELECT * FROM entailed_edge WHERE subject LIKE \"%MONDO_%\" AND object LIKE \"%ICD10%\" LIMIT 100"
   ]
  },
  {
   "cell_type": "code",
   "execution_count": null,
   "id": "2b83ba51",
   "metadata": {},
   "outputs": [],
   "source": [
    "%sql SELECT * FROM entailed_edge WHERE subject LIKE \"%ICD10%\" AND object LIKE \"%MONDO_%\"  LIMIT 100"
   ]
  },
  {
   "cell_type": "code",
   "execution_count": null,
   "id": "74f62d9e",
   "metadata": {},
   "outputs": [],
   "source": [
    "%sql SELECT * FROM entailed_edge WHERE subject LIKE \"%ICD10%\" LIMIT 100"
   ]
  },
  {
   "cell_type": "code",
   "execution_count": null,
   "id": "9fd1ae22",
   "metadata": {},
   "outputs": [],
   "source": []
  }
 ],
 "metadata": {
  "kernelspec": {
   "display_name": "Python 3 (ipykernel)",
   "language": "python",
   "name": "python3"
  },
  "language_info": {
   "codemirror_mode": {
    "name": "ipython",
    "version": 3
   },
   "file_extension": ".py",
   "mimetype": "text/x-python",
   "name": "python",
   "nbconvert_exporter": "python",
   "pygments_lexer": "ipython3",
   "version": "3.9.12"
  },
  "vscode": {
   "interpreter": {
    "hash": "d02099d3399bb2a155534157ae153c7c5d5f5fbbdd1f48cec3cf319e8e30ad6e"
   }
  }
 },
 "nbformat": 4,
 "nbformat_minor": 5
}
